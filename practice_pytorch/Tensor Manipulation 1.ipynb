{
 "cells": [
  {
   "cell_type": "code",
   "execution_count": 10,
   "metadata": {},
   "outputs": [],
   "source": [
    "import numpy as np\n",
    "import torch"
   ]
  },
  {
   "cell_type": "markdown",
   "metadata": {},
   "source": [
    "## 1D array with numpy"
   ]
  },
  {
   "cell_type": "code",
   "execution_count": 4,
   "metadata": {},
   "outputs": [
    {
     "name": "stdout",
     "output_type": "stream",
     "text": [
      "[0 1 2 3 4 5 6]\n"
     ]
    }
   ],
   "source": [
    "v = np.array([0,1,2,3,4,5,6])\n",
    "print(v)"
   ]
  },
  {
   "cell_type": "code",
   "execution_count": 5,
   "metadata": {},
   "outputs": [
    {
     "name": "stdout",
     "output_type": "stream",
     "text": [
      "dim of v : 1\n",
      "shape of v : (7,)\n"
     ]
    }
   ],
   "source": [
    "print(f'dim of v : {v.ndim}')\n",
    "print(f'shape of v : {v.shape}')"
   ]
  },
  {
   "cell_type": "code",
   "execution_count": 9,
   "metadata": {},
   "outputs": [
    {
     "name": "stdout",
     "output_type": "stream",
     "text": [
      "v[0] : 0, v[1]: 1, v[-1] : 6\n",
      "v[1:] : [1 2 3 4 5 6] v[2:5] : [2 3 4]\n",
      "v[4:-1] : [4 5]\n"
     ]
    }
   ],
   "source": [
    "#element slicing\n",
    "print(f'v[0] : {v[0]}, v[1]: {v[1]}, v[-1] : {v[-1]}')\n",
    "print(f'v[1:] : {v[1:]} v[2:5] : {v[2:5]}')\n",
    "print(f'v[4:-1] : {v[4:-1]}')"
   ]
  },
  {
   "cell_type": "markdown",
   "metadata": {},
   "source": [
    "## 2D array with numpy"
   ]
  },
  {
   "cell_type": "code",
   "execution_count": 12,
   "metadata": {},
   "outputs": [
    {
     "name": "stdout",
     "output_type": "stream",
     "text": [
      "[[1 2 3]\n",
      " [2 3 4]\n",
      " [3 4 5]\n",
      " [4 5 6]]\n"
     ]
    }
   ],
   "source": [
    "m = np.array([[1,2,3],[2,3,4],[3,4,5],[4,5,6]])\n",
    "print(m)"
   ]
  },
  {
   "cell_type": "code",
   "execution_count": 13,
   "metadata": {},
   "outputs": [
    {
     "name": "stdout",
     "output_type": "stream",
     "text": [
      "dim of m : 2\n",
      "shape of m : (4, 3)\n"
     ]
    }
   ],
   "source": [
    "print(f'dim of m : {m.ndim}')\n",
    "print(f'shape of m : {m.shape}')"
   ]
  },
  {
   "cell_type": "markdown",
   "metadata": {},
   "source": [
    "## 1D array with pytorch"
   ]
  },
  {
   "cell_type": "code",
   "execution_count": 14,
   "metadata": {},
   "outputs": [
    {
     "name": "stdout",
     "output_type": "stream",
     "text": [
      "tensor([0., 1., 2., 3., 4., 5., 6.])\n"
     ]
    }
   ],
   "source": [
    "t = torch.FloatTensor([0,1,2,3,4,5,6])\n",
    "print(t)"
   ]
  },
  {
   "cell_type": "code",
   "execution_count": 18,
   "metadata": {},
   "outputs": [
    {
     "name": "stdout",
     "output_type": "stream",
     "text": [
      "dim of t : 1\n",
      "shape of t : torch.Size([7])\n",
      "size of t : torch.Size([7])\n"
     ]
    }
   ],
   "source": [
    "print(f'dim of t : {t.dim()}')\n",
    "print(f'shape of t : {t.shape}')\n",
    "print(f'size of t : {t.size()}')"
   ]
  },
  {
   "cell_type": "code",
   "execution_count": 22,
   "metadata": {},
   "outputs": [
    {
     "name": "stdout",
     "output_type": "stream",
     "text": [
      "t[0] : 0.0\n",
      "t[-1] : 6.0\n",
      "t[:-1] : tensor([0., 1., 2., 3., 4., 5.])\n"
     ]
    }
   ],
   "source": [
    "print(f't[0] : {t[0]}')\n",
    "print(f't[-1] : {t[-1]}')\n",
    "print(f't[:-1] : {t[:-1]}')"
   ]
  },
  {
   "cell_type": "markdown",
   "metadata": {},
   "source": [
    "## 2D array with pytorch"
   ]
  },
  {
   "cell_type": "code",
   "execution_count": 24,
   "metadata": {},
   "outputs": [
    {
     "name": "stdout",
     "output_type": "stream",
     "text": [
      "tensor([[1., 2., 3.],\n",
      "        [2., 3., 4.],\n",
      "        [3., 4., 5.],\n",
      "        [4., 5., 6.]])\n"
     ]
    }
   ],
   "source": [
    "t = torch.FloatTensor([[1,2,3],[2,3,4],[3,4,5],[4,5,6]])\n",
    "print(t)"
   ]
  },
  {
   "cell_type": "code",
   "execution_count": 26,
   "metadata": {},
   "outputs": [
    {
     "name": "stdout",
     "output_type": "stream",
     "text": [
      "dim of t : 2\n",
      "shape of t : torch.Size([4, 3])\n",
      "size of t : torch.Size([4, 3])\n"
     ]
    }
   ],
   "source": [
    "print(f'dim of t : {t.dim()}')\n",
    "print(f'shape of t : {t.shape}')\n",
    "print(f'size of t : {t.size()}')"
   ]
  },
  {
   "cell_type": "code",
   "execution_count": 31,
   "metadata": {},
   "outputs": [
    {
     "name": "stdout",
     "output_type": "stream",
     "text": [
      "t[:, -1] : tensor([2., 3., 4., 5.])\n",
      "t[:, :-1] : tensor([[1., 2.],\n",
      "        [2., 3.],\n",
      "        [3., 4.],\n",
      "        [4., 5.]])\n"
     ]
    }
   ],
   "source": [
    "print(f't[:, -1] : {t[:, 1]}') # 첫번째 차원(열)에서는 다 가져오되 두번째 차원(열)에서는 인덱스가 1인 요소들을 가져와라\n",
    "print(f't[:, :-1] : {t[:,:-1]}') # 첫번째 차원(열)에서는 다 가져오되 두번째 차원(열) 에서는 마지막 차원(열) 까지의 요소들을 가져와라"
   ]
  },
  {
   "cell_type": "markdown",
   "metadata": {},
   "source": [
    "## Broadcasting\n",
    "연산을 하는데 부족한 부분을 자동으로 채워주는것\n",
    "주의해서 사용해야한다."
   ]
  },
  {
   "cell_type": "code",
   "execution_count": 33,
   "metadata": {},
   "outputs": [
    {
     "name": "stdout",
     "output_type": "stream",
     "text": [
      "tensor([5., 5.])\n"
     ]
    }
   ],
   "source": [
    "m1 = torch.FloatTensor([3,3])\n",
    "m2 = torch.FloatTensor([2,2])\n",
    "print(m1+m2)"
   ]
  },
  {
   "cell_type": "code",
   "execution_count": 34,
   "metadata": {},
   "outputs": [
    {
     "name": "stdout",
     "output_type": "stream",
     "text": [
      "tensor([6., 6.])\n"
     ]
    }
   ],
   "source": [
    "# vector + scalar\n",
    "m2 = torch.FloatTensor([3]) # 3-> [3 ,3]\n",
    "print(m1+m2)"
   ]
  },
  {
   "cell_type": "code",
   "execution_count": 36,
   "metadata": {},
   "outputs": [
    {
     "name": "stdout",
     "output_type": "stream",
     "text": [
      "tensor([[4., 5.],\n",
      "        [5., 6.]])\n"
     ]
    }
   ],
   "source": [
    "# another dim vector calculate\n",
    "# 자동으로 부족한 요소(행,열)이 채워지기 때문에 주의를 요해야 한다.\n",
    "m1 = torch.FloatTensor([[1,2]]) # dim :(1,2), [[1,2]] -> dim: (2,2), [[1,2], [1,2]]\n",
    "m2 = torch.FloatTensor([[3],[4]]) # dim : (2,1), [[3],[4]] -> dim:(2,2), [[3,3], [4,4]]\n",
    "print(m1+m2) # -> [[1,2], [1,2]] + [[3,3], [4,4]]"
   ]
  },
  {
   "cell_type": "markdown",
   "metadata": {},
   "source": [
    "## Multiplication vs Matrix Multiplication\n",
    "multiplication : 내적을 구하는 것\n",
    "matrix multiplication : 성분곱"
   ]
  },
  {
   "cell_type": "code",
   "execution_count": 39,
   "metadata": {},
   "outputs": [
    {
     "name": "stdout",
     "output_type": "stream",
     "text": [
      "1. Multiplication(inner product)\n",
      "shape of matrix 1 : torch.Size([2, 2])\n",
      "shape of matrix 2 : torch.Size([2, 1])\n",
      "innter product : \n",
      "tensor([[11.],\n",
      "        [25.]])\n"
     ]
    }
   ],
   "source": [
    "print('1. Multiplication(inner product)')\n",
    "m1 = torch.FloatTensor([[1,2],[3,4]])\n",
    "m2 = torch.FloatTensor([[3],[4]])\n",
    "print(f'shape of matrix 1 : {m1.shape}')\n",
    "print(f'shape of matrix 2 : {m2.shape}')\n",
    "print(f'innter product : \\n{m1.matmul(m2)}')"
   ]
  },
  {
   "cell_type": "code",
   "execution_count": 41,
   "metadata": {},
   "outputs": [
    {
     "name": "stdout",
     "output_type": "stream",
     "text": [
      "2. Matrix Multiplication\n",
      "shape of matrix 1 : torch.Size([2, 2])\n",
      "shape of matrix 2 : torch.Size([2, 1])\n",
      "element multiplication : \n",
      "tensor([[ 3.,  6.],\n",
      "        [12., 16.]])\n",
      "tensor([[ 3.,  6.],\n",
      "        [12., 16.]])\n"
     ]
    }
   ],
   "source": [
    "print('2. Matrix Multiplication')\n",
    "print(f'shape of matrix 1 : {m1.shape}')\n",
    "print(f'shape of matrix 2 : {m2.shape}')\n",
    "print(f'element multiplication : \\n{m1.mul(m2)}') # 같은 위치에 있는 요소들끼리의 곱\n",
    "print(m1*m2)"
   ]
  },
  {
   "cell_type": "markdown",
   "metadata": {},
   "source": [
    "## Mean\n",
    "해당 텐서의 평균값"
   ]
  },
  {
   "cell_type": "code",
   "execution_count": 43,
   "metadata": {},
   "outputs": [
    {
     "name": "stdout",
     "output_type": "stream",
     "text": [
      "tensor(1.5000)\n"
     ]
    }
   ],
   "source": [
    "t= torch.FloatTensor([1,2])\n",
    "print(t.mean())"
   ]
  },
  {
   "cell_type": "code",
   "execution_count": 48,
   "metadata": {},
   "outputs": [
    {
     "name": "stdout",
     "output_type": "stream",
     "text": [
      "Can only calculate the mean of floating types. Got Long instead.\n"
     ]
    }
   ],
   "source": [
    "# mean calculate float only\n",
    "t = torch.LongTensor([1,2])\n",
    "try:\n",
    "    print(t.mean())\n",
    "except Exception as e:\n",
    "    print(e)"
   ]
  },
  {
   "cell_type": "code",
   "execution_count": 61,
   "metadata": {},
   "outputs": [
    {
     "name": "stdout",
     "output_type": "stream",
     "text": [
      "dim of t : 2\t shape of t : torch.Size([2, 2])\n",
      "t.mean() : 2.5\n",
      "t's mean(axis=0) : tensor([2., 3.])\n",
      "t's mean(axis=1) : tensor([1.5000, 3.5000])\n",
      "t's mean(axis=-1) : tensor([1.5000, 3.5000])\n"
     ]
    }
   ],
   "source": [
    "t = torch.FloatTensor([[1,2],[3,4]])\n",
    "print(f'dim of t : {t.dim()}\\t shape of t : {t.shape}')\n",
    "print(f't.mean() : {t.mean()}') # all elements mean\n",
    "print(f't\\'s mean(axis=0) : {t.mean(dim=0)}') # dim -> (0 :row,1 :column)\n",
    "print(f't\\'s mean(axis=1) : {t.mean(dim=1)}')\n",
    "print(f't\\'s mean(axis=-1) : {t.mean(dim=-1)}') # if shape : (1,2,3) => dim = 2"
   ]
  },
  {
   "cell_type": "markdown",
   "metadata": {},
   "source": [
    "## Sum\n",
    "해당 텐서의 값들을 더한 값"
   ]
  },
  {
   "cell_type": "code",
   "execution_count": 62,
   "metadata": {},
   "outputs": [
    {
     "name": "stdout",
     "output_type": "stream",
     "text": [
      "tensor([[1., 2.],\n",
      "        [3., 4.]])\n"
     ]
    }
   ],
   "source": [
    "t = torch.FloatTensor([[1,2],[3,4]])\n",
    "print(t)"
   ]
  },
  {
   "cell_type": "code",
   "execution_count": 66,
   "metadata": {},
   "outputs": [
    {
     "name": "stdout",
     "output_type": "stream",
     "text": [
      "t.sum() : 10.0\n",
      "t's sum(axis=0) : tensor([4., 6.])\n",
      "t's sum(axis=1) : tensor([3., 7.])\n",
      "t's sum(axis=-1) : tensor([3., 7.])\n"
     ]
    }
   ],
   "source": [
    "print(f't.sum() : {t.sum()}')\n",
    "print(f't\\'s sum(axis=0) : {t.sum(dim=0)}')\n",
    "print(f't\\'s sum(axis=1) : {t.sum(dim=1)}')\n",
    "print(f't\\'s sum(axis=-1) : {t.sum(dim=-1)}') # if shape : (1,2,3) => dim =2 "
   ]
  },
  {
   "cell_type": "markdown",
   "metadata": {},
   "source": [
    "## Max and Argmax\n",
    "Max : 가장 큰 값\n",
    "Argmax : 가장 큰 값의 인덱스값"
   ]
  },
  {
   "cell_type": "code",
   "execution_count": 70,
   "metadata": {},
   "outputs": [
    {
     "name": "stdout",
     "output_type": "stream",
     "text": [
      "tensor([[1., 4.],\n",
      "        [2., 3.]])\n"
     ]
    }
   ],
   "source": [
    "t = torch.FloatTensor([[1,4],[2,3]])\n",
    "print(t)"
   ]
  },
  {
   "cell_type": "code",
   "execution_count": 74,
   "metadata": {},
   "outputs": [
    {
     "name": "stdout",
     "output_type": "stream",
     "text": [
      "t's max value : 4.0\n",
      "t's max value(axis=0) : (tensor([2., 4.]), tensor([1, 0]))\n",
      "t's max : tensor([2., 4.])\n",
      "t's argmax : tensor([1, 0])\n"
     ]
    }
   ],
   "source": [
    "print(f't\\'s max value : {t.max()}')\n",
    "print(f't\\'s max value(axis=0) : {t.max(dim=0)}') # 첫번째 출력은 가장 큰 값들, 두번째 출력은 그 값들의 인덱스(ex 아파트 층) dim=0\n",
    "print(f't\\'s max : {t.max(dim=0)[0]}')\n",
    "print(f't\\'s argmax : {t.max(dim=0)[1]}')"
   ]
  },
  {
   "cell_type": "code",
   "execution_count": 76,
   "metadata": {},
   "outputs": [
    {
     "name": "stdout",
     "output_type": "stream",
     "text": [
      "t's max value(axis=1) : (tensor([4., 3.]), tensor([1, 1]))\n",
      "t's max value(axis=-1, most recently dim) : (tensor([4., 3.]), tensor([1, 1]))\n"
     ]
    }
   ],
   "source": [
    "print(f't\\'s max value(axis=1) : {t.max(dim=1)}') # 첫번째 출력은 가장 큰 값들, 두번째 출력은 그 값들의 인덱스(ex 아파트 호수) dim=1\n",
    "print(f't\\'s max value(axis=-1, most recently dim) : {t.max(dim=-1)}')"
   ]
  },
  {
   "cell_type": "code",
   "execution_count": null,
   "metadata": {},
   "outputs": [],
   "source": []
  }
 ],
 "metadata": {
  "kernelspec": {
   "display_name": "Python 3",
   "language": "python",
   "name": "python3"
  },
  "language_info": {
   "codemirror_mode": {
    "name": "ipython",
    "version": 3
   },
   "file_extension": ".py",
   "mimetype": "text/x-python",
   "name": "python",
   "nbconvert_exporter": "python",
   "pygments_lexer": "ipython3",
   "version": "3.6.7"
  }
 },
 "nbformat": 4,
 "nbformat_minor": 2
}
