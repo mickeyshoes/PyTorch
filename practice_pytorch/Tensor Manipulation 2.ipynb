{
 "cells": [
  {
   "cell_type": "markdown",
   "metadata": {},
   "source": [
    "## View(Reshape)\n",
    "shape 를 다시 만들어서 보여(view) 주겠다."
   ]
  },
  {
   "cell_type": "code",
   "execution_count": 2,
   "metadata": {},
   "outputs": [],
   "source": [
    "import numpy as np\n",
    "import torch"
   ]
  },
  {
   "cell_type": "code",
   "execution_count": 4,
   "metadata": {},
   "outputs": [
    {
     "name": "stdout",
     "output_type": "stream",
     "text": [
      "tensor([[[0., 1., 2.],\n",
      "         [3., 4., 5.]],\n",
      "\n",
      "        [[6., 7., 8.],\n",
      "         [9., 9., 9.]]])\n",
      "torch.Size([2, 2, 3])\n"
     ]
    }
   ],
   "source": [
    "t = np.array(\n",
    "    [[[0,1,2],\n",
    "     [3,4,5]],\n",
    "    [[6,7,8],\n",
    "    [9,9,9]]\n",
    "    ])\n",
    "tt = torch.FloatTensor(t)\n",
    "print(tt) # 굉장히 보기 복잡하고 다루기도 힘들어 보인다.\n",
    "print(tt.shape)"
   ]
  },
  {
   "cell_type": "code",
   "execution_count": 8,
   "metadata": {},
   "outputs": [
    {
     "name": "stdout",
     "output_type": "stream",
     "text": [
      "tensor([[0., 1., 2.],\n",
      "        [3., 4., 5.],\n",
      "        [6., 7., 8.],\n",
      "        [9., 9., 9.]])\n"
     ]
    }
   ],
   "source": [
    "print(tt.view([-1,3])) # 처음 차원은 잘 모르겠는데 3개의 원소를 가진 차원으로 보여줘라"
   ]
  },
  {
   "cell_type": "code",
   "execution_count": 14,
   "metadata": {},
   "outputs": [
    {
     "ename": "RuntimeError",
     "evalue": "shape '[3]' is invalid for input of size 12",
     "output_type": "error",
     "traceback": [
      "\u001b[0;31m---------------------------------------------------------------------------\u001b[0m",
      "\u001b[0;31mRuntimeError\u001b[0m                              Traceback (most recent call last)",
      "\u001b[0;32m<ipython-input-14-41a7536c8c61>\u001b[0m in \u001b[0;36m<module>\u001b[0;34m\u001b[0m\n\u001b[0;32m----> 1\u001b[0;31m \u001b[0mprint\u001b[0m\u001b[0;34m(\u001b[0m\u001b[0mtt\u001b[0m\u001b[0;34m.\u001b[0m\u001b[0mview\u001b[0m\u001b[0;34m(\u001b[0m\u001b[0;34m[\u001b[0m\u001b[0;36m3\u001b[0m\u001b[0;34m]\u001b[0m\u001b[0;34m)\u001b[0m\u001b[0;34m)\u001b[0m \u001b[0;31m# 사이즈를 맞춰주어야 함을 알 수 있다. (원소의 갯수를 어떤 차원으로 보일것인가와 관련된 이야기같음)\u001b[0m\u001b[0;34m\u001b[0m\u001b[0;34m\u001b[0m\u001b[0m\n\u001b[0m",
      "\u001b[0;31mRuntimeError\u001b[0m: shape '[3]' is invalid for input of size 12"
     ]
    }
   ],
   "source": [
    "print(tt.view([3])) # 사이즈를 맞춰주어야 함을 알 수 있다. (원소의 갯수를 어떤 차원으로 보일것인가와 관련된 이야기같음)"
   ]
  },
  {
   "cell_type": "code",
   "execution_count": 12,
   "metadata": {},
   "outputs": [
    {
     "name": "stdout",
     "output_type": "stream",
     "text": [
      "tensor([[[0., 1., 2.]],\n",
      "\n",
      "        [[3., 4., 5.]],\n",
      "\n",
      "        [[6., 7., 8.]],\n",
      "\n",
      "        [[9., 9., 9.]]])\n",
      "torch.Size([4, 1, 3])\n"
     ]
    }
   ],
   "source": [
    "print(tt.view([-1,1,3]))\n",
    "print(tt.view([-1,1,3]).shape)"
   ]
  },
  {
   "cell_type": "markdown",
   "metadata": {},
   "source": [
    "## Squeeze\n",
    "dimension 의 element 가 1일때 쥐어짜서 없애줌"
   ]
  },
  {
   "cell_type": "code",
   "execution_count": 33,
   "metadata": {},
   "outputs": [
    {
     "name": "stdout",
     "output_type": "stream",
     "text": [
      " ft( tensor([[0., 1., 2.]]) )'s shape : torch.Size([1, 3])\n",
      "squeeze : tensor([0., 1., 2.])\n",
      "squeeze (dim=0) : tensor([0., 1., 2.])\n",
      "squeeze (dim=1) : tensor([[0., 1., 2.]])\n",
      "--------------------------\n",
      "ft( tensor([[1.],\n",
      "        [2.],\n",
      "        [3.]]) )'s shape : torch.Size([3, 1])\n",
      "squeeze : tensor([1., 2., 3.])\n",
      "squeeze (dim=0) : \n",
      "tensor([[1.],\n",
      "        [2.],\n",
      "        [3.]])\n",
      "squeeze (dim=1) : tensor([1., 2., 3.])\n"
     ]
    }
   ],
   "source": [
    "ft = torch.FloatTensor([[0,1,2]])\n",
    "print(f' ft( {ft} )\\'s shape : {ft.shape}')\n",
    "print(f'squeeze : {ft.squeeze()}')\n",
    "print(f'squeeze (dim=0) : {ft.squeeze(dim=0)}') # shape [1,3] 이어서 dim=0 에 의해 squeeze\n",
    "print(f'squeeze (dim=1) : {ft.squeeze(dim=1)}') # shape [1,3] 이므로 dim=1 일때 3이므로 결과는 그대로\n",
    "print('--------------------------')\n",
    "ft = torch.FloatTensor([[1],[2],[3]])\n",
    "print(f'ft( {ft} )\\'s shape : {ft.shape}')\n",
    "print(f'squeeze : {ft.squeeze()}')\n",
    "print(f'squeeze (dim=0) : \\n{ft.squeeze(dim=0)}') # shape [3,1] 이어서 dim=0 에 의해 변하는 것이 없음\n",
    "print(f'squeeze (dim=1) : {ft.squeeze(dim=1)}') # shape [3,1] 이므로 dim=1 에 의해 squeeze"
   ]
  },
  {
   "cell_type": "markdown",
   "metadata": {},
   "source": [
    "## Unsqueeze\n",
    "특정 dim 뒤에 1차원을 넣겠다.(view 로서 해도 됨)"
   ]
  },
  {
   "cell_type": "code",
   "execution_count": 66,
   "metadata": {},
   "outputs": [
    {
     "name": "stdout",
     "output_type": "stream",
     "text": [
      "tensor([1., 2., 3.])\n",
      "torch.Size([3])\n"
     ]
    }
   ],
   "source": [
    "ft = torch.FloatTensor([1,2,3])\n",
    "print(ft)\n",
    "print(ft.shape)"
   ]
  },
  {
   "cell_type": "code",
   "execution_count": 67,
   "metadata": {},
   "outputs": [
    {
     "name": "stdout",
     "output_type": "stream",
     "text": [
      "tensor([[1., 2., 3.]])\n",
      "torch.Size([1, 3])\n",
      "tensor([[1.],\n",
      "        [2.],\n",
      "        [3.]])\n",
      "torch.Size([3, 1])\n"
     ]
    }
   ],
   "source": [
    "print(ft.unsqueeze(dim=0))\n",
    "print(ft.unsqueeze(dim=0).shape) # dim =0 에 대해 한 차원을 넣음\n",
    "print(ft.unsqueeze(dim=1))\n",
    "print(ft.unsqueeze(dim=1).shape) # dim =1 에 대해 한 차원을 넣음"
   ]
  },
  {
   "cell_type": "code",
   "execution_count": 71,
   "metadata": {},
   "outputs": [
    {
     "name": "stdout",
     "output_type": "stream",
     "text": [
      "tensor([[1., 2., 3.]])\n",
      "torch.Size([1, 3])\n",
      "tensor([[1.],\n",
      "        [2.],\n",
      "        [3.]])\n",
      "torch.Size([3, 1])\n"
     ]
    }
   ],
   "source": [
    "print(ft.view([1,-1]))\n",
    "print(ft.view([1,-1]).shape) # dim =0 의 차원을 1로 하고 나머지는 알아서\n",
    "print(ft.view([-1,1]))\n",
    "print(ft.view([-1,1]).shape) # dim =1 의 차원을 1로 하고 나머지는 알아서"
   ]
  },
  {
   "cell_type": "code",
   "execution_count": 72,
   "metadata": {},
   "outputs": [
    {
     "name": "stdout",
     "output_type": "stream",
     "text": [
      "original tensor([[1., 2., 3.]]) shape : torch.Size([1, 3])\n",
      "2D array ft squeeze to dim=0 : tensor([[[1., 2., 3.]]]) shape : torch.Size([1, 1, 3])\n",
      "2D array ft squeeze to dim=1 : tensor([[[1., 2., 3.]]]) shape : torch.Size([1, 1, 3])\n",
      "2D array ft squeeze to dim=2 : tensor([[[1.],\n",
      "         [2.],\n",
      "         [3.]]]) shape : torch.Size([1, 3, 1])\n"
     ]
    }
   ],
   "source": [
    "ft = torch.FloatTensor([[1., 2., 3.]])\n",
    "print(f'original {ft} shape : {ft.shape}')\n",
    "print(f'2D array ft squeeze to dim=0 : {ft.unsqueeze(dim=0)} shape : {ft.unsqueeze(dim=0).shape}')\n",
    "print(f'2D array ft squeeze to dim=1 : {ft.unsqueeze(dim=1)} shape : {ft.unsqueeze(dim=1).shape}')\n",
    "print(f'2D array ft squeeze to dim=2 : {ft.unsqueeze(dim=2)} shape : {ft.unsqueeze(dim=2).shape}')"
   ]
  },
  {
   "cell_type": "markdown",
   "metadata": {},
   "source": [
    "## Type Casting\n",
    "tensor 의 타입을 바꾸어주는것"
   ]
  },
  {
   "cell_type": "code",
   "execution_count": 74,
   "metadata": {},
   "outputs": [
    {
     "name": "stdout",
     "output_type": "stream",
     "text": [
      "tensor([1, 2, 3, 4])\n",
      "tensor([1., 2., 3., 4.])\n"
     ]
    }
   ],
   "source": [
    "lt = torch.LongTensor([1,2,3,4])\n",
    "print(lt)\n",
    "print(lt.float())"
   ]
  },
  {
   "cell_type": "code",
   "execution_count": 78,
   "metadata": {},
   "outputs": [
    {
     "name": "stdout",
     "output_type": "stream",
     "text": [
      "tensor([1, 0, 0, 1], dtype=torch.uint8)\n",
      "tensor([1, 0, 0, 1])\n",
      "tensor([1., 0., 0., 1.])\n"
     ]
    }
   ],
   "source": [
    "bt = torch.ByteTensor([True, False, False, True])\n",
    "print(bt)\n",
    "print(bt.long())\n",
    "print(bt.float())"
   ]
  },
  {
   "cell_type": "code",
   "execution_count": 81,
   "metadata": {},
   "outputs": [
    {
     "name": "stdout",
     "output_type": "stream",
     "text": [
      "tensor([0, 0, 1, 0], dtype=torch.uint8)\n",
      "<class 'torch.Tensor'>\n"
     ]
    }
   ],
   "source": [
    "print((lt==3)) # lt 의 element 중 원소가 3인 값이 있으면 True\n",
    "print(type(lt==3))"
   ]
  },
  {
   "cell_type": "markdown",
   "metadata": {},
   "source": [
    "## Concatenate"
   ]
  },
  {
   "cell_type": "code",
   "execution_count": 101,
   "metadata": {},
   "outputs": [
    {
     "name": "stdout",
     "output_type": "stream",
     "text": [
      "x: tensor([[1., 2.],\n",
      "        [3., 4.]]) \n",
      "y : tensor([[2., 3.],\n",
      "        [4., 5.]])\n",
      "tensor([[1., 2.],\n",
      "        [3., 4.],\n",
      "        [2., 3.],\n",
      "        [4., 5.]])\n",
      "torch.Size([4, 2])\n",
      "tensor([[1., 2., 2., 3.],\n",
      "        [3., 4., 4., 5.]])\n"
     ]
    }
   ],
   "source": [
    "x = torch.FloatTensor([[1,2],[3,4]])\n",
    "y = torch.FloatTensor([[2,3],[4,5]])\n",
    "print(f'x: {x} \\ny : {y}')\n",
    "print(torch.cat([x,y], dim=0)) #dim=0에 대해 접합이므로 row 로 붙는 모양\n",
    "print(torch.cat([x,y], dim=0).shape)\n",
    "print(torch.cat([x,y], dim=1)) #dim=1에 대해 접합이므로 column 로 붙는 모양"
   ]
  },
  {
   "cell_type": "markdown",
   "metadata": {},
   "source": [
    "## Stacking\n",
    "명시한 dimension 으로 쌓는것"
   ]
  },
  {
   "cell_type": "code",
   "execution_count": 104,
   "metadata": {},
   "outputs": [
    {
     "name": "stdout",
     "output_type": "stream",
     "text": [
      "tensor([[1., 2.],\n",
      "        [4., 5.],\n",
      "        [7., 8.]])\n",
      "torch.Size([3, 2])\n",
      "tensor([[1., 4., 7.],\n",
      "        [2., 5., 8.]])\n",
      "torch.Size([2, 3])\n"
     ]
    }
   ],
   "source": [
    "x = torch.FloatTensor([1,2]) #size = (2,)\n",
    "y = torch.FloatTensor([4,5])\n",
    "z = torch.FloatTensor([7,8])\n",
    "print(torch.stack([x,y,z])) # stack by dim=0(default)\n",
    "print(torch.stack([x,y,z]).shape)\n",
    "print(torch.stack([x,y,z], dim=1)) # stack by dim=1 \n",
    "print(torch.stack([x,y,z], dim=1).shape)"
   ]
  },
  {
   "cell_type": "code",
   "execution_count": 112,
   "metadata": {},
   "outputs": [
    {
     "name": "stdout",
     "output_type": "stream",
     "text": [
      "tensor([[1., 2.],\n",
      "        [4., 5.],\n",
      "        [7., 8.]])\n",
      "tensor([[1., 2., 4., 5., 7., 8.]])\n"
     ]
    }
   ],
   "source": [
    "# concatenate 를 사용하여 stack 과 같이 구현\n",
    "print(torch.cat([x.unsqueeze(0), y.unsqueeze(0), z.unsqueeze(0)]))\n",
    "print(torch.cat([x.unsqueeze(0), y.unsqueeze(0), z.unsqueeze(0)], dim=1))"
   ]
  },
  {
   "cell_type": "code",
   "execution_count": 116,
   "metadata": {},
   "outputs": [
    {
     "ename": "TypeError",
     "evalue": "view(): argument 'size' must be tuple of ints, but found element of type torch.Size at pos 2",
     "output_type": "error",
     "traceback": [
      "\u001b[0;31m---------------------------------------------------------------------------\u001b[0m",
      "\u001b[0;31mTypeError\u001b[0m                                 Traceback (most recent call last)",
      "\u001b[0;32m<ipython-input-116-c8d01c63f466>\u001b[0m in \u001b[0;36m<module>\u001b[0;34m\u001b[0m\n\u001b[0;32m----> 1\u001b[0;31m \u001b[0mprint\u001b[0m\u001b[0;34m(\u001b[0m\u001b[0mx\u001b[0m\u001b[0;34m.\u001b[0m\u001b[0mview\u001b[0m\u001b[0;34m(\u001b[0m\u001b[0;34m[\u001b[0m\u001b[0;34m-\u001b[0m\u001b[0;36m1\u001b[0m\u001b[0;34m,\u001b[0m\u001b[0mx\u001b[0m\u001b[0;34m.\u001b[0m\u001b[0msize\u001b[0m\u001b[0;34m(\u001b[0m\u001b[0;34m)\u001b[0m\u001b[0;34m]\u001b[0m\u001b[0;34m)\u001b[0m\u001b[0;34m)\u001b[0m\u001b[0;34m\u001b[0m\u001b[0;34m\u001b[0m\u001b[0m\n\u001b[0m",
      "\u001b[0;31mTypeError\u001b[0m: view(): argument 'size' must be tuple of ints, but found element of type torch.Size at pos 2"
     ]
    }
   ],
   "source": []
  },
  {
   "cell_type": "code",
   "execution_count": null,
   "metadata": {},
   "outputs": [],
   "source": []
  }
 ],
 "metadata": {
  "kernelspec": {
   "display_name": "Python 3",
   "language": "python",
   "name": "python3"
  },
  "language_info": {
   "codemirror_mode": {
    "name": "ipython",
    "version": 3
   },
   "file_extension": ".py",
   "mimetype": "text/x-python",
   "name": "python",
   "nbconvert_exporter": "python",
   "pygments_lexer": "ipython3",
   "version": "3.6.7"
  }
 },
 "nbformat": 4,
 "nbformat_minor": 2
}
